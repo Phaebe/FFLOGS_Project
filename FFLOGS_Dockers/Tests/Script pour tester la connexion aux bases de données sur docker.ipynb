{
 "cells": [
  {
   "cell_type": "code",
   "execution_count": 20,
   "id": "3cb8678f",
   "metadata": {},
   "outputs": [],
   "source": [
    "import mysql.connector\n",
    "from mysql.connector import Error"
   ]
  },
  {
   "cell_type": "code",
   "execution_count": 33,
   "id": "6db7d5f4",
   "metadata": {},
   "outputs": [],
   "source": [
    "#Définition de variables de connexion\n",
    "user = 'root'\n",
    "password = 'root'\n",
    "host = 'localhost'\n",
    "database = 'mysql'\n",
    "port=3305"
   ]
  },
  {
   "cell_type": "code",
   "execution_count": 47,
   "id": "6b3d6f60",
   "metadata": {},
   "outputs": [],
   "source": [
    "# Connexion à la base de données\n",
    "conn = mysql.connector.connect(user=user, password=password,\n",
    "                              host=host, port=port)\n",
    "\n",
    "#creation du cursor\n",
    "cursor = conn.cursor()"
   ]
  },
  {
   "cell_type": "code",
   "execution_count": 44,
   "id": "4d7f61f3",
   "metadata": {},
   "outputs": [
    {
     "name": "stdout",
     "output_type": "stream",
     "text": [
      "None\n"
     ]
    }
   ],
   "source": [
    "result = cursor.execute(\"\"\"Show Databases;\"\"\")\n",
    "print(result)"
   ]
  },
  {
   "cell_type": "code",
   "execution_count": null,
   "id": "d9281ea3",
   "metadata": {},
   "outputs": [],
   "source": [
    "# ATTENTION, comme l'a dit l'ami chatgpt dès qu'on fait un conn.comit(), le curseur est réinitialisé \n",
    "# et donc ilfaut le reconnecter !\n",
    "\n",
    "#creation du cursor\n",
    "cursor = conn.cursor()\n",
    "\n",
    "#petit test\n",
    "\n",
    "sql = \"\"\"Show Databases;\"\"\"\n",
    "cursor.execute(sql)\n",
    "\n",
    "for name in cursor:\n",
    "    print(name)\n",
    "\n",
    "    \n",
    "conn.commit()\n",
    "#print(result)"
   ]
  },
  {
   "cell_type": "code",
   "execution_count": null,
   "id": "9ce258f6",
   "metadata": {},
   "outputs": [],
   "source": [
    "sql = \"\"\"Show tables from projectfflogs;\"\"\"\n",
    "\n",
    "cursor.execute(sql)\n",
    "\n",
    "print(cursor)\n",
    "\n",
    "for table in cursor:\n",
    "    print(table)\n",
    "    print(\"le tuple a \",len(table),\"elements.\")\n",
    "\n",
    "conn.commit()"
   ]
  },
  {
   "cell_type": "code",
   "execution_count": null,
   "id": "69296024",
   "metadata": {},
   "outputs": [],
   "source": []
  },
  {
   "cell_type": "code",
   "execution_count": 43,
   "id": "6f3a0565",
   "metadata": {},
   "outputs": [],
   "source": [
    "cursor.execute(\"\"\"CREATE SCHEMA IF NOT EXISTS `teamprogffxiv` DEFAULT CHARACTER SET utf8 ;\"\"\")\n",
    "conn.commit()"
   ]
  },
  {
   "cell_type": "code",
   "execution_count": 45,
   "id": "041a8a81",
   "metadata": {},
   "outputs": [
    {
     "ename": "InternalError",
     "evalue": "Unread result found",
     "output_type": "error",
     "traceback": [
      "\u001b[1;31m---------------------------------------------------------------------------\u001b[0m",
      "\u001b[1;31mInternalError\u001b[0m                             Traceback (most recent call last)",
      "\u001b[1;32m~\\AppData\\Local\\Temp\\ipykernel_23432\\281085425.py\u001b[0m in \u001b[0;36m<module>\u001b[1;34m\u001b[0m\n\u001b[1;32m----> 1\u001b[1;33m \u001b[0mcursor\u001b[0m\u001b[1;33m.\u001b[0m\u001b[0mexecute\u001b[0m\u001b[1;33m(\u001b[0m\u001b[1;34m\"\"\"USE `teamprogffxiv` ;\"\"\"\u001b[0m\u001b[1;33m)\u001b[0m\u001b[1;33m\u001b[0m\u001b[1;33m\u001b[0m\u001b[0m\n\u001b[0m\u001b[0;32m      2\u001b[0m \u001b[0mconn\u001b[0m\u001b[1;33m.\u001b[0m\u001b[0mcommit\u001b[0m\u001b[1;33m(\u001b[0m\u001b[1;33m)\u001b[0m\u001b[1;33m\u001b[0m\u001b[1;33m\u001b[0m\u001b[0m\n",
      "\u001b[1;32mD:\\Anaconda\\lib\\site-packages\\mysql\\connector\\cursor_cext.py\u001b[0m in \u001b[0;36mexecute\u001b[1;34m(self, operation, params, multi)\u001b[0m\n\u001b[0;32m    301\u001b[0m         \u001b[1;32mexcept\u001b[0m \u001b[1;33m(\u001b[0m\u001b[0mProgrammingError\u001b[0m\u001b[1;33m,\u001b[0m \u001b[0mReferenceError\u001b[0m\u001b[1;33m)\u001b[0m \u001b[1;32mas\u001b[0m \u001b[0merr\u001b[0m\u001b[1;33m:\u001b[0m\u001b[1;33m\u001b[0m\u001b[1;33m\u001b[0m\u001b[0m\n\u001b[0;32m    302\u001b[0m             \u001b[1;32mraise\u001b[0m \u001b[0mProgrammingError\u001b[0m\u001b[1;33m(\u001b[0m\u001b[1;34m\"Cursor is not connected\"\u001b[0m\u001b[1;33m,\u001b[0m \u001b[1;36m2055\u001b[0m\u001b[1;33m)\u001b[0m \u001b[1;32mfrom\u001b[0m \u001b[0merr\u001b[0m\u001b[1;33m\u001b[0m\u001b[1;33m\u001b[0m\u001b[0m\n\u001b[1;32m--> 303\u001b[1;33m         \u001b[0mself\u001b[0m\u001b[1;33m.\u001b[0m\u001b[0m_cnx\u001b[0m\u001b[1;33m.\u001b[0m\u001b[0mhandle_unread_result\u001b[0m\u001b[1;33m(\u001b[0m\u001b[1;33m)\u001b[0m\u001b[1;33m\u001b[0m\u001b[1;33m\u001b[0m\u001b[0m\n\u001b[0m\u001b[0;32m    304\u001b[0m \u001b[1;33m\u001b[0m\u001b[0m\n\u001b[0;32m    305\u001b[0m         \u001b[0mstmt\u001b[0m \u001b[1;33m=\u001b[0m \u001b[1;34m\"\"\u001b[0m\u001b[1;33m\u001b[0m\u001b[1;33m\u001b[0m\u001b[0m\n",
      "\u001b[1;32mD:\\Anaconda\\lib\\site-packages\\mysql\\connector\\connection_cext.py\u001b[0m in \u001b[0;36mhandle_unread_result\u001b[1;34m(self, prepared)\u001b[0m\n\u001b[0;32m    919\u001b[0m             \u001b[0mself\u001b[0m\u001b[1;33m.\u001b[0m\u001b[0mconsume_results\u001b[0m\u001b[1;33m(\u001b[0m\u001b[1;33m)\u001b[0m\u001b[1;33m\u001b[0m\u001b[1;33m\u001b[0m\u001b[0m\n\u001b[0;32m    920\u001b[0m         \u001b[1;32melif\u001b[0m \u001b[0munread_result\u001b[0m\u001b[1;33m:\u001b[0m\u001b[1;33m\u001b[0m\u001b[1;33m\u001b[0m\u001b[0m\n\u001b[1;32m--> 921\u001b[1;33m             \u001b[1;32mraise\u001b[0m \u001b[0mInternalError\u001b[0m\u001b[1;33m(\u001b[0m\u001b[1;34m\"Unread result found\"\u001b[0m\u001b[1;33m)\u001b[0m\u001b[1;33m\u001b[0m\u001b[1;33m\u001b[0m\u001b[0m\n\u001b[0m\u001b[0;32m    922\u001b[0m \u001b[1;33m\u001b[0m\u001b[0m\n\u001b[0;32m    923\u001b[0m     def reset_session(\n",
      "\u001b[1;31mInternalError\u001b[0m: Unread result found"
     ]
    }
   ],
   "source": [
    "cursor.execute(\"\"\"USE `teamprogffxiv` ;\"\"\")\n",
    "conn.commit()"
   ]
  },
  {
   "cell_type": "code",
   "execution_count": 48,
   "id": "63e382dc",
   "metadata": {},
   "outputs": [],
   "source": [
    "query = \"\"\"CREATE  TABLE IF NOT EXISTS `teamprogffxiv`.`user` (\n",
    "  `id_user` INT(11) NOT NULL ,\n",
    "  `user_name` VARCHAR(255) NOT NULL ,\n",
    "  PRIMARY KEY (`id_user`) ,\n",
    "  UNIQUE INDEX `id_user_UNIQUE` (`id_user` ASC) )\n",
    "ENGINE = InnoDB\n",
    "DEFAULT CHARACTER SET = utf8\n",
    "COMMENT = 'Information about fflog account : user name and id.';\"\"\"\n",
    "\n",
    "cursor.execute(query)\n",
    "conn.commit()"
   ]
  },
  {
   "cell_type": "code",
   "execution_count": null,
   "id": "8e84a6ba",
   "metadata": {},
   "outputs": [],
   "source": []
  }
 ],
 "metadata": {
  "kernelspec": {
   "display_name": "Python 3 (ipykernel)",
   "language": "python",
   "name": "python3"
  },
  "language_info": {
   "codemirror_mode": {
    "name": "ipython",
    "version": 3
   },
   "file_extension": ".py",
   "mimetype": "text/x-python",
   "name": "python",
   "nbconvert_exporter": "python",
   "pygments_lexer": "ipython3",
   "version": "3.9.13"
  }
 },
 "nbformat": 4,
 "nbformat_minor": 5
}
